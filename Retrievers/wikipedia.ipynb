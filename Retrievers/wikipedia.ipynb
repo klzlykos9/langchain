{
 "cells": [
  {
   "cell_type": "markdown",
   "metadata": {},
   "source": [
    "# Wikipedia Retriever"
   ]
  },
  {
   "cell_type": "code",
   "execution_count": 1,
   "metadata": {},
   "outputs": [],
   "source": [
    "from langchain_community.retrievers import WikipediaRetriever"
   ]
  },
  {
   "cell_type": "markdown",
   "metadata": {},
   "source": [
    "### Initialize the Retriever (optional): set language and top_k"
   ]
  },
  {
   "cell_type": "code",
   "execution_count": 3,
   "metadata": {},
   "outputs": [],
   "source": [
    "retriever = WikipediaRetriever(top_k_results =2,lang= 'en')"
   ]
  },
  {
   "cell_type": "code",
   "execution_count": 4,
   "metadata": {},
   "outputs": [],
   "source": [
    "# Define your query\n",
    "query = 'the geographical history of India and Pakistan on the perspective of Chinese'"
   ]
  },
  {
   "cell_type": "code",
   "execution_count": 5,
   "metadata": {},
   "outputs": [],
   "source": [
    "# Got the Relevant  wikipedia Documents\n",
    "docs = retriever.invoke(query)"
   ]
  },
  {
   "cell_type": "code",
   "execution_count": 6,
   "metadata": {},
   "outputs": [
    {
     "data": {
      "text/plain": [
       "[Document(metadata={'title': 'Indo-Pakistani war of 1971', 'summary': \"The Indo-Pakistani war of 1971, also known as the third Indo-Pakistani war, was a military confrontation between India and Pakistan that occurred during the Bangladesh Liberation War in East Pakistan from 3 December 1971 until the Pakistani capitulation in Dhaka on 16 December 1971.  The war began with Pakistan's Operation Chengiz Khan, consisting of preemptive aerial strikes on eight Indian air stations. The strikes led to India declaring war on Pakistan, marking their entry into the war for East Pakistan's independence, on the side of Bengali nationalist forces. India's entry expanded the existing conflict with Indian and Pakistani forces engaging on both the eastern and western fronts. \\nThirteen days after the war started, India achieved a clear upper hand, and the Eastern Command of the Pakistan military signed the instrument of surrender on 16 December 1971 in Dhaka, marking the formation of East Pakistan as the new nation of Bangladesh. Approximately 93,000 Pakistani servicemen were taken prisoner by the Indian Army, which included 79,676 to 81,000 uniformed personnel of the Pakistan Armed Forces, including some Bengali soldiers who had remained loyal to Pakistan. The remaining 10,324 to 12,500 prisoners were civilians, either family members of the military personnel or collaborators (Razakars).\\nIt is estimated that members of the Pakistani military and supporting pro-Pakistani Islamist militias killed between 300,000 and 3,000,000 civilians in Bangladesh. As a result of the conflict, a further eight to ten million people fled the country to seek refuge in India.\\nDuring the war, members of the Pakistani military and supporting pro-Pakistani Islamist militias called the Razakars raped between 200,000 and 400,000 Bangladeshi women and girls in a systematic campaign of genocidal rape.\", 'source': 'https://en.wikipedia.org/wiki/Indo-Pakistani_war_of_1971'}, page_content=\"The Indo-Pakistani war of 1971, also known as the third Indo-Pakistani war, was a military confrontation between India and Pakistan that occurred during the Bangladesh Liberation War in East Pakistan from 3 December 1971 until the Pakistani capitulation in Dhaka on 16 December 1971.  The war began with Pakistan's Operation Chengiz Khan, consisting of preemptive aerial strikes on eight Indian air stations. The strikes led to India declaring war on Pakistan, marking their entry into the war for East Pakistan's independence, on the side of Bengali nationalist forces. India's entry expanded the existing conflict with Indian and Pakistani forces engaging on both the eastern and western fronts. \\nThirteen days after the war started, India achieved a clear upper hand, and the Eastern Command of the Pakistan military signed the instrument of surrender on 16 December 1971 in Dhaka, marking the formation of East Pakistan as the new nation of Bangladesh. Approximately 93,000 Pakistani servicemen were taken prisoner by the Indian Army, which included 79,676 to 81,000 uniformed personnel of the Pakistan Armed Forces, including some Bengali soldiers who had remained loyal to Pakistan. The remaining 10,324 to 12,500 prisoners were civilians, either family members of the military personnel or collaborators (Razakars).\\nIt is estimated that members of the Pakistani military and supporting pro-Pakistani Islamist militias killed between 300,000 and 3,000,000 civilians in Bangladesh. As a result of the conflict, a further eight to ten million people fled the country to seek refuge in India.\\nDuring the war, members of the Pakistani military and supporting pro-Pakistani Islamist militias called the Razakars raped between 200,000 and 400,000 Bangladeshi women and girls in a systematic campaign of genocidal rape.\\n\\n\\n== Background ==\\n\\nThe Indo-Pakistani conflict was sparked by the Bangladesh Liberation War, which was a result of the violation of the rights of East Pakistan by the Pakistan Army. The political tensions in East Pakistan had its origin in the creation of Pakistan as a result of the partition of India by the United Kingdom in 1947; the popular language movement in 1950; mass riots in East Bengal in 1964; and the mass protests in 1969. These led to the resignation of President Ayub Khan, who invited army chief General Yahya Khan to take over the central government. The geographical distance between the eastern and western wings of Pakistan was vast; East Pakistan lay over 1,600 kilometres (1,000 mi) away, which greatly hampered any attempt to integrate the Bengali and the Pakistani cultures.\\nTo overcome the Bengali domination and prevent formation of the central government in Islamabad, the controversial One Unit programme established the two wings of East and West Pakistan. West Pakistanis' opposition to these efforts made it difficult to effectively govern both wings. In 1969, President Yahya Khan announced the first general elections and disestablished the status of West Pakistan as a single province in 1970, in order to restore it to its original heterogeneous status comprising four provinces, as defined at the time of establishment of Pakistan in 1947. In addition, there were religious and racial tensions between Bengalis and the multi-ethnic West Pakistanis, as Bengalis looked different from the dominant West Pakistanis.\\nThe East Pakistan's Awami League leader Sheikh Mujibur Rahman stressed his political position by presenting his Six Points and endorsing the Bengalis' right to govern. The 1970 Pakistani general election, resulted in Awami League gaining 167 out of 169 seats for the East Pakistan Legislative Assembly, and a near-absolute majority in the 313-seat National Assembly, while the vote in West Pakistan was mostly won by the socialist Pakistan Peoples Party. The League's election success caused many West Pakistanis to fear that it would allow the Bengalis to draft the constitution based on the six-points and liberalism.\\nTo resol\"),\n",
       " Document(metadata={'title': 'History of Pakistan', 'summary': 'The history of Pakistan prior to its independence in 1947 spans several millennia and covers a vast geographical area known as the Greater Indus region. Anatomically modern humans arrived in what is now Pakistan between 73,000 and 55,000 years ago. Stone tools, dating as far back as 2.1 million years, have been discovered in the Soan Valley of northern Pakistan, indicating early hominid activity in the region. The earliest known human remains in Pakistan are dated between 5000 BCE and 3000 BCE. By around 7000 BCE, early human settlements began to emerge in Pakistan, leading to the development of urban centres such as Mehrgarh, one of the oldest in human history. By 4500 BCE, the Indus Valley Civilization evolved, which flourished between 2500 BCE and 1900 BCE along the Indus River. The region that now constitutes Pakistan served both as the cradle of a major ancient civilisation and as a strategic gateway connecting South Asia with Central Asia and the Near East.\\nSituated on the first coastal migration route of Homo sapiens out of Africa, the region was inhabited early by modern humans. The 9,000-year history of village life in South Asia traces back to the Neolithic (7000–4300 BCE) site of Mehrgarh in Pakistan,  and the 5,000-year history of urban life in South Asia to the various sites of the Indus Valley Civilization, including Mohenjo Daro and Harappa.\\nFollowing the decline of the Indus valley civilisation, Indo-Aryan tribes moved into the Punjab from Central Asia originally from the Pontic-Caspian Steppe in several waves of migration in the Vedic Period (1500–500 BCE), bringing with them came their distinctive religious traditions and Practices which fused with local culture. The Indo-Aryans religious beliefs and practices from the Bactria–Margiana culture and the native Harappan Indus beliefs of the former Indus Valley Civilisation eventually gave rise to Vedic culture and tribes. Most notable among them was Gandhara civilisation, which flourished at the crossroads of India, Central Asia, and the Middle East, connecting trade routes and absorbing cultural influences from diverse civilisations. The initial early Vedic culture was a tribal, pastoral society centred in the Indus Valley, of what is today Pakistan. During this period the Vedas, the oldest scriptures of Hinduism, were composed.\\nThe ensuing millennia saw the region of present-day Pakistan absorb many influences represented among others in the ancient, mainly Hindu-Buddhist, sites of Taxila, and Takht-i-Bahi. The early medieval period witnessed the spread of Islam in the region after the Arab conqueror Muhammad ibn Qasim conquered Sindh and some regions of Punjab in 711 CE. Several successive Muslim empires ruled over the region, including the Ghaznavid Empire, the Ghorid Kingdom, and the Delhi Sultanate and the Mughal Empire. Dynasties emerging from the region encompassing modern day Pakistan during this period included the Soomra dynasty, Samma dynasty, Sayyid dynasty Kalhora dynasty, Talpurs ,Langah Sultanate, Sultanate of Swat Sial dynasty Shah Mir Dynasty and the Chattha State.\\nIn the first half of the 19th century, the region was appropriated by the East India Company, followed, after 1857, by 90 years of direct British rule, and ending with the creation of Pakistan in 1947, through the efforts, among others, of its future national poet Muhammad Iqbal and its founder, Muhammad Ali Jinnah.  Since then, the country has experienced both civilian democratic and military rule, resulting in periods of significant economic and military growth as well as those of instability; significant during the latter, was the 1971 secession of East Pakistan as the new nation of Bangladesh.', 'source': 'https://en.wikipedia.org/wiki/History_of_Pakistan'}, page_content='The history of Pakistan prior to its independence in 1947 spans several millennia and covers a vast geographical area known as the Greater Indus region. Anatomically modern humans arrived in what is now Pakistan between 73,000 and 55,000 years ago. Stone tools, dating as far back as 2.1 million years, have been discovered in the Soan Valley of northern Pakistan, indicating early hominid activity in the region. The earliest known human remains in Pakistan are dated between 5000 BCE and 3000 BCE. By around 7000 BCE, early human settlements began to emerge in Pakistan, leading to the development of urban centres such as Mehrgarh, one of the oldest in human history. By 4500 BCE, the Indus Valley Civilization evolved, which flourished between 2500 BCE and 1900 BCE along the Indus River. The region that now constitutes Pakistan served both as the cradle of a major ancient civilisation and as a strategic gateway connecting South Asia with Central Asia and the Near East.\\nSituated on the first coastal migration route of Homo sapiens out of Africa, the region was inhabited early by modern humans. The 9,000-year history of village life in South Asia traces back to the Neolithic (7000–4300 BCE) site of Mehrgarh in Pakistan,  and the 5,000-year history of urban life in South Asia to the various sites of the Indus Valley Civilization, including Mohenjo Daro and Harappa.\\nFollowing the decline of the Indus valley civilisation, Indo-Aryan tribes moved into the Punjab from Central Asia originally from the Pontic-Caspian Steppe in several waves of migration in the Vedic Period (1500–500 BCE), bringing with them came their distinctive religious traditions and Practices which fused with local culture. The Indo-Aryans religious beliefs and practices from the Bactria–Margiana culture and the native Harappan Indus beliefs of the former Indus Valley Civilisation eventually gave rise to Vedic culture and tribes. Most notable among them was Gandhara civilisation, which flourished at the crossroads of India, Central Asia, and the Middle East, connecting trade routes and absorbing cultural influences from diverse civilisations. The initial early Vedic culture was a tribal, pastoral society centred in the Indus Valley, of what is today Pakistan. During this period the Vedas, the oldest scriptures of Hinduism, were composed.\\nThe ensuing millennia saw the region of present-day Pakistan absorb many influences represented among others in the ancient, mainly Hindu-Buddhist, sites of Taxila, and Takht-i-Bahi. The early medieval period witnessed the spread of Islam in the region after the Arab conqueror Muhammad ibn Qasim conquered Sindh and some regions of Punjab in 711 CE. Several successive Muslim empires ruled over the region, including the Ghaznavid Empire, the Ghorid Kingdom, and the Delhi Sultanate and the Mughal Empire. Dynasties emerging from the region encompassing modern day Pakistan during this period included the Soomra dynasty, Samma dynasty, Sayyid dynasty Kalhora dynasty, Talpurs ,Langah Sultanate, Sultanate of Swat Sial dynasty Shah Mir Dynasty and the Chattha State.\\nIn the first half of the 19th century, the region was appropriated by the East India Company, followed, after 1857, by 90 years of direct British rule, and ending with the creation of Pakistan in 1947, through the efforts, among others, of its future national poet Muhammad Iqbal and its founder, Muhammad Ali Jinnah.  Since then, the country has experienced both civilian democratic and military rule, resulting in periods of significant economic and military growth as well as those of instability; significant during the latter, was the 1971 secession of East Pakistan as the new nation of Bangladesh.\\n\\n\\n== Prehistory ==\\n\\n\\n=== Paleolithic period ===\\nThe Soanian is archaeological culture of the Lower Paleolithic, Acheulean. It is named after the Soan Valley in the Sivalik Hills, near modern-day Islamabad and is dated between c.774,000 and c.11,700 BCE.\\n\\n\\n=== Neolithic period ===\\n\\nMehrgarh ')]"
      ]
     },
     "execution_count": 6,
     "metadata": {},
     "output_type": "execute_result"
    }
   ],
   "source": [
    "docs"
   ]
  },
  {
   "cell_type": "code",
   "execution_count": 8,
   "metadata": {},
   "outputs": [
    {
     "name": "stdout",
     "output_type": "stream",
     "text": [
      "\n",
      "--- Reuslt1---\n",
      "Content: \n",
      "The Indo-Pakistani war of 1971, also known as the third Indo-Pakistani war, was a military confrontation between India and Pakistan that occurred during the Bangladesh Liberation War in East Pakistan from 3 December 1971 until the Pakistani capitulation in Dhaka on 16 December 1971.  The war began with Pakistan's Operation Chengiz Khan, consisting of preemptive aerial strikes on eight Indian air stations. The strikes led to India declaring war on Pakistan, marking their entry into the war for East Pakistan's independence, on the side of Bengali nationalist forces. India's entry expanded the existing conflict with Indian and Pakistani forces engaging on both the eastern and western fronts. \n",
      "Thirteen days after the war started, India achieved a clear upper hand, and the Eastern Command of the Pakistan military signed the instrument of surrender on 16 December 1971 in Dhaka, marking the formation of East Pakistan as the new nation of Bangladesh. Approximately 93,000 Pakistani servicemen were taken prisoner by the Indian Army, which included 79,676 to 81,000 uniformed personnel of the Pakistan Armed Forces, including some Bengali soldiers who had remained loyal to Pakistan. The remaining 10,324 to 12,500 prisoners were civilians, either family members of the military personnel or collaborators (Razakars).\n",
      "It is estimated that members of the Pakistani military and supporting pro-Pakistani Islamist militias killed between 300,000 and 3,000,000 civilians in Bangladesh. As a result of the conflict, a further eight to ten million people fled the country to seek refuge in India.\n",
      "During the war, members of the Pakistani military and supporting pro-Pakistani Islamist militias called the Razakars raped between 200,000 and 400,000 Bangladeshi women and girls in a systematic campaign of genocidal rape.\n",
      "\n",
      "\n",
      "== Background ==\n",
      "\n",
      "The Indo-Pakistani conflict was sparked by the Bangladesh Liberation War, which was a result of the violation of the rights of East Pakistan by the Pakistan Army. The political tensions in East Pakistan had its origin in the creation of Pakistan as a result of the partition of India by the United Kingdom in 1947; the popular language movement in 1950; mass riots in East Bengal in 1964; and the mass protests in 1969. These led to the resignation of President Ayub Khan, who invited army chief General Yahya Khan to take over the central government. The geographical distance between the eastern and western wings of Pakistan was vast; East Pakistan lay over 1,600 kilometres (1,000 mi) away, which greatly hampered any attempt to integrate the Bengali and the Pakistani cultures.\n",
      "To overcome the Bengali domination and prevent formation of the central government in Islamabad, the controversial One Unit programme established the two wings of East and West Pakistan. West Pakistanis' opposition to these efforts made it difficult to effectively govern both wings. In 1969, President Yahya Khan announced the first general elections and disestablished the status of West Pakistan as a single province in 1970, in order to restore it to its original heterogeneous status comprising four provinces, as defined at the time of establishment of Pakistan in 1947. In addition, there were religious and racial tensions between Bengalis and the multi-ethnic West Pakistanis, as Bengalis looked different from the dominant West Pakistanis.\n",
      "The East Pakistan's Awami League leader Sheikh Mujibur Rahman stressed his political position by presenting his Six Points and endorsing the Bengalis' right to govern. The 1970 Pakistani general election, resulted in Awami League gaining 167 out of 169 seats for the East Pakistan Legislative Assembly, and a near-absolute majority in the 313-seat National Assembly, while the vote in West Pakistan was mostly won by the socialist Pakistan Peoples Party. The League's election success caused many West Pakistanis to fear that it would allow the Bengalis to draft the constitution based on the six-points and liberalism.\n",
      "To resol---\n",
      "\n",
      "--- Reuslt2---\n",
      "Content: \n",
      "The history of Pakistan prior to its independence in 1947 spans several millennia and covers a vast geographical area known as the Greater Indus region. Anatomically modern humans arrived in what is now Pakistan between 73,000 and 55,000 years ago. Stone tools, dating as far back as 2.1 million years, have been discovered in the Soan Valley of northern Pakistan, indicating early hominid activity in the region. The earliest known human remains in Pakistan are dated between 5000 BCE and 3000 BCE. By around 7000 BCE, early human settlements began to emerge in Pakistan, leading to the development of urban centres such as Mehrgarh, one of the oldest in human history. By 4500 BCE, the Indus Valley Civilization evolved, which flourished between 2500 BCE and 1900 BCE along the Indus River. The region that now constitutes Pakistan served both as the cradle of a major ancient civilisation and as a strategic gateway connecting South Asia with Central Asia and the Near East.\n",
      "Situated on the first coastal migration route of Homo sapiens out of Africa, the region was inhabited early by modern humans. The 9,000-year history of village life in South Asia traces back to the Neolithic (7000–4300 BCE) site of Mehrgarh in Pakistan,  and the 5,000-year history of urban life in South Asia to the various sites of the Indus Valley Civilization, including Mohenjo Daro and Harappa.\n",
      "Following the decline of the Indus valley civilisation, Indo-Aryan tribes moved into the Punjab from Central Asia originally from the Pontic-Caspian Steppe in several waves of migration in the Vedic Period (1500–500 BCE), bringing with them came their distinctive religious traditions and Practices which fused with local culture. The Indo-Aryans religious beliefs and practices from the Bactria–Margiana culture and the native Harappan Indus beliefs of the former Indus Valley Civilisation eventually gave rise to Vedic culture and tribes. Most notable among them was Gandhara civilisation, which flourished at the crossroads of India, Central Asia, and the Middle East, connecting trade routes and absorbing cultural influences from diverse civilisations. The initial early Vedic culture was a tribal, pastoral society centred in the Indus Valley, of what is today Pakistan. During this period the Vedas, the oldest scriptures of Hinduism, were composed.\n",
      "The ensuing millennia saw the region of present-day Pakistan absorb many influences represented among others in the ancient, mainly Hindu-Buddhist, sites of Taxila, and Takht-i-Bahi. The early medieval period witnessed the spread of Islam in the region after the Arab conqueror Muhammad ibn Qasim conquered Sindh and some regions of Punjab in 711 CE. Several successive Muslim empires ruled over the region, including the Ghaznavid Empire, the Ghorid Kingdom, and the Delhi Sultanate and the Mughal Empire. Dynasties emerging from the region encompassing modern day Pakistan during this period included the Soomra dynasty, Samma dynasty, Sayyid dynasty Kalhora dynasty, Talpurs ,Langah Sultanate, Sultanate of Swat Sial dynasty Shah Mir Dynasty and the Chattha State.\n",
      "In the first half of the 19th century, the region was appropriated by the East India Company, followed, after 1857, by 90 years of direct British rule, and ending with the creation of Pakistan in 1947, through the efforts, among others, of its future national poet Muhammad Iqbal and its founder, Muhammad Ali Jinnah.  Since then, the country has experienced both civilian democratic and military rule, resulting in periods of significant economic and military growth as well as those of instability; significant during the latter, was the 1971 secession of East Pakistan as the new nation of Bangladesh.\n",
      "\n",
      "\n",
      "== Prehistory ==\n",
      "\n",
      "\n",
      "=== Paleolithic period ===\n",
      "The Soanian is archaeological culture of the Lower Paleolithic, Acheulean. It is named after the Soan Valley in the Sivalik Hills, near modern-day Islamabad and is dated between c.774,000 and c.11,700 BCE.\n",
      "\n",
      "\n",
      "=== Neolithic period ===\n",
      "\n",
      "Mehrgarh ---\n"
     ]
    }
   ],
   "source": [
    "# Print retrieved documents\n",
    "\n",
    "for i, doc in enumerate(docs):\n",
    "    print(f'\\n--- Reuslt{i+1}---')\n",
    "    print(f'Content: \\n{doc.page_content}---')"
   ]
  },
  {
   "cell_type": "code",
   "execution_count": null,
   "metadata": {},
   "outputs": [],
   "source": []
  }
 ],
 "metadata": {
  "language_info": {
   "name": "python"
  }
 },
 "nbformat": 4,
 "nbformat_minor": 2
}
